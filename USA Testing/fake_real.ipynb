{
 "cells": [
  {
   "cell_type": "code",
   "execution_count": 11,
   "metadata": {},
   "outputs": [],
   "source": [
    "import os\n",
    "import sys \n",
    "\n",
    "parent_directory = os.path.dirname(os.path.abspath(os.getcwd()))\n",
    "sys.path.append(parent_directory)  # this allows for the pipeline to be imported "
   ]
  },
  {
   "cell_type": "code",
   "execution_count": 12,
   "metadata": {},
   "outputs": [],
   "source": [
    "import pandas as pd\n",
    "from sklearn.model_selection import train_test_split\n",
    "from pipeline import clean_text\n",
    "from models import Marivate_model, create_Bert"
   ]
  },
  {
   "cell_type": "code",
   "execution_count": 13,
   "metadata": {},
   "outputs": [
    {
     "data": {
      "text/html": [
       "<div>\n",
       "<style scoped>\n",
       "    .dataframe tbody tr th:only-of-type {\n",
       "        vertical-align: middle;\n",
       "    }\n",
       "\n",
       "    .dataframe tbody tr th {\n",
       "        vertical-align: top;\n",
       "    }\n",
       "\n",
       "    .dataframe thead th {\n",
       "        text-align: right;\n",
       "    }\n",
       "</style>\n",
       "<table border=\"1\" class=\"dataframe\">\n",
       "  <thead>\n",
       "    <tr style=\"text-align: right;\">\n",
       "      <th></th>\n",
       "      <th>idd</th>\n",
       "      <th>title</th>\n",
       "      <th>text</th>\n",
       "      <th>label</th>\n",
       "    </tr>\n",
       "  </thead>\n",
       "  <tbody>\n",
       "    <tr>\n",
       "      <th>0</th>\n",
       "      <td>Fq+C96tcx+</td>\n",
       "      <td>‘A target on Roe v. Wade ’: Oklahoma bill maki...</td>\n",
       "      <td>UPDATE: Gov. Fallin vetoed the bill on Friday....</td>\n",
       "      <td>REAL</td>\n",
       "    </tr>\n",
       "    <tr>\n",
       "      <th>1</th>\n",
       "      <td>bHUqK!pgmv</td>\n",
       "      <td>Study: women had to drive 4 times farther afte...</td>\n",
       "      <td>Ever since Texas laws closed about half of the...</td>\n",
       "      <td>REAL</td>\n",
       "    </tr>\n",
       "    <tr>\n",
       "      <th>2</th>\n",
       "      <td>4Y4Ubf%aTi</td>\n",
       "      <td>Trump, Clinton clash in dueling DC speeches</td>\n",
       "      <td>Donald Trump and Hillary Clinton, now at the s...</td>\n",
       "      <td>REAL</td>\n",
       "    </tr>\n",
       "    <tr>\n",
       "      <th>3</th>\n",
       "      <td>_CoY89SJ@K</td>\n",
       "      <td>Grand jury in Texas indicts activists behind P...</td>\n",
       "      <td>A Houston grand jury investigating criminal al...</td>\n",
       "      <td>REAL</td>\n",
       "    </tr>\n",
       "    <tr>\n",
       "      <th>4</th>\n",
       "      <td>+rJHoRQVLe</td>\n",
       "      <td>As Reproductive Rights Hang In The Balance, De...</td>\n",
       "      <td>WASHINGTON -- Forty-three years after the Supr...</td>\n",
       "      <td>REAL</td>\n",
       "    </tr>\n",
       "  </tbody>\n",
       "</table>\n",
       "</div>"
      ],
      "text/plain": [
       "          idd                                              title  \\\n",
       "0  Fq+C96tcx+  ‘A target on Roe v. Wade ’: Oklahoma bill maki...   \n",
       "1  bHUqK!pgmv  Study: women had to drive 4 times farther afte...   \n",
       "2  4Y4Ubf%aTi        Trump, Clinton clash in dueling DC speeches   \n",
       "3  _CoY89SJ@K  Grand jury in Texas indicts activists behind P...   \n",
       "4  +rJHoRQVLe  As Reproductive Rights Hang In The Balance, De...   \n",
       "\n",
       "                                                text label  \n",
       "0  UPDATE: Gov. Fallin vetoed the bill on Friday....  REAL  \n",
       "1  Ever since Texas laws closed about half of the...  REAL  \n",
       "2  Donald Trump and Hillary Clinton, now at the s...  REAL  \n",
       "3  A Houston grand jury investigating criminal al...  REAL  \n",
       "4  WASHINGTON -- Forty-three years after the Supr...  REAL  "
      ]
     },
     "execution_count": 13,
     "metadata": {},
     "output_type": "execute_result"
    }
   ],
   "source": [
    "df = pd.read_csv(\"fake_and_real_news_dataset.csv\")\n",
    "df.head()"
   ]
  },
  {
   "cell_type": "code",
   "execution_count": 14,
   "metadata": {},
   "outputs": [
    {
     "data": {
      "text/html": [
       "<div>\n",
       "<style scoped>\n",
       "    .dataframe tbody tr th:only-of-type {\n",
       "        vertical-align: middle;\n",
       "    }\n",
       "\n",
       "    .dataframe tbody tr th {\n",
       "        vertical-align: top;\n",
       "    }\n",
       "\n",
       "    .dataframe thead th {\n",
       "        text-align: right;\n",
       "    }\n",
       "</style>\n",
       "<table border=\"1\" class=\"dataframe\">\n",
       "  <thead>\n",
       "    <tr style=\"text-align: right;\">\n",
       "      <th></th>\n",
       "      <th>idd</th>\n",
       "      <th>title</th>\n",
       "      <th>text</th>\n",
       "      <th>label</th>\n",
       "    </tr>\n",
       "  </thead>\n",
       "  <tbody>\n",
       "    <tr>\n",
       "      <th>0</th>\n",
       "      <td>Fq+C96tcx+</td>\n",
       "      <td>‘A target on Roe v. Wade ’: Oklahoma bill maki...</td>\n",
       "      <td>UPDATE: Gov. Fallin vetoed the bill on Friday....</td>\n",
       "      <td>REAL</td>\n",
       "    </tr>\n",
       "    <tr>\n",
       "      <th>1</th>\n",
       "      <td>bHUqK!pgmv</td>\n",
       "      <td>Study: women had to drive 4 times farther afte...</td>\n",
       "      <td>Ever since Texas laws closed about half of the...</td>\n",
       "      <td>REAL</td>\n",
       "    </tr>\n",
       "    <tr>\n",
       "      <th>2</th>\n",
       "      <td>4Y4Ubf%aTi</td>\n",
       "      <td>Trump, Clinton clash in dueling DC speeches</td>\n",
       "      <td>Donald Trump and Hillary Clinton, now at the s...</td>\n",
       "      <td>REAL</td>\n",
       "    </tr>\n",
       "    <tr>\n",
       "      <th>3</th>\n",
       "      <td>_CoY89SJ@K</td>\n",
       "      <td>Grand jury in Texas indicts activists behind P...</td>\n",
       "      <td>A Houston grand jury investigating criminal al...</td>\n",
       "      <td>REAL</td>\n",
       "    </tr>\n",
       "    <tr>\n",
       "      <th>4</th>\n",
       "      <td>+rJHoRQVLe</td>\n",
       "      <td>As Reproductive Rights Hang In The Balance, De...</td>\n",
       "      <td>WASHINGTON -- Forty-three years after the Supr...</td>\n",
       "      <td>REAL</td>\n",
       "    </tr>\n",
       "  </tbody>\n",
       "</table>\n",
       "</div>"
      ],
      "text/plain": [
       "          idd                                              title  \\\n",
       "0  Fq+C96tcx+  ‘A target on Roe v. Wade ’: Oklahoma bill maki...   \n",
       "1  bHUqK!pgmv  Study: women had to drive 4 times farther afte...   \n",
       "2  4Y4Ubf%aTi        Trump, Clinton clash in dueling DC speeches   \n",
       "3  _CoY89SJ@K  Grand jury in Texas indicts activists behind P...   \n",
       "4  +rJHoRQVLe  As Reproductive Rights Hang In The Balance, De...   \n",
       "\n",
       "                                                text label  \n",
       "0  UPDATE: Gov. Fallin vetoed the bill on Friday....  REAL  \n",
       "1  Ever since Texas laws closed about half of the...  REAL  \n",
       "2  Donald Trump and Hillary Clinton, now at the s...  REAL  \n",
       "3  A Houston grand jury investigating criminal al...  REAL  \n",
       "4  WASHINGTON -- Forty-three years after the Supr...  REAL  "
      ]
     },
     "execution_count": 14,
     "metadata": {},
     "output_type": "execute_result"
    }
   ],
   "source": [
    "# drop nan\n",
    "df.dropna(inplace=True, axis=0)\n",
    "df.head()"
   ]
  },
  {
   "cell_type": "code",
   "execution_count": 15,
   "metadata": {},
   "outputs": [],
   "source": [
    "x = df[\"title\"]+ \".\" +df[\"text\"]\n",
    "\n",
    "y = df[\"label\"].apply(lambda x: 1 if x == \"REAL\" else 0)"
   ]
  },
  {
   "cell_type": "code",
   "execution_count": 16,
   "metadata": {},
   "outputs": [],
   "source": [
    "x_train, x_test, y_train, y_test = train_test_split(x, y, test_size=0.4, random_state=42)\n",
    "\n",
    "Lstm_train = x_test.apply(clean_text)"
   ]
  },
  {
   "cell_type": "code",
   "execution_count": 17,
   "metadata": {},
   "outputs": [],
   "source": [
    "from tensorflow.keras.preprocessing.text import Tokenizer\n",
    "from tensorflow.keras.preprocessing.sequence import pad_sequences\n",
    "\n",
    "full_text_length = x.apply(lambda x: len(x.split()))     # split it into indivdual words, then check\n",
    "\n",
    "max_length = full_text_length.max()\n",
    "\n",
    "\n",
    "token = Tokenizer(num_words=10000, oov_token=\"<OOV>\")\n",
    "token.fit_on_texts(Lstm_train)\n",
    "word_index = token.word_index\n",
    "\n",
    "# text processing \n",
    "training_seq = token.texts_to_sequences(Lstm_train)\n",
    "\n",
    "#paqdding \n",
    "train_padded = pad_sequences(training_seq,  maxlen=10000,  padding='post')"
   ]
  },
  {
   "cell_type": "code",
   "execution_count": 18,
   "metadata": {},
   "outputs": [],
   "source": [
    "def addPath(folder_name, list):\n",
    "    parent_directory = os.path.dirname(os.path.abspath(os.getcwd()))\n",
    "    folder = os.path.join(parent_directory, folder_name)\n",
    "    return [os.path.join(folder, i) for i in list]  "
   ]
  },
  {
   "cell_type": "code",
   "execution_count": 19,
   "metadata": {},
   "outputs": [],
   "source": [
    "def train_LSTM(x, y):\n",
    "    chosen_weights = [\"ww_merge.weights.h5\", \"WordNet_merge.weights.h5\", \"Word2Vec_merge.weights.h5\", \"unbalnced_merge.weights.h5\"]\n",
    "\n",
    "    weights = addPath(\"LSTM models\", chosen_weights)\n",
    "    \n",
    "    models = [Marivate_model() for i in range(4)]\n",
    "\n",
    "    for i in models:\n",
    "        i.build(input_shape=(None, 10000))\n",
    "\n",
    "    for index, v in enumerate(weights):\n",
    "        models[index].load_weights(v)\n",
    "\n",
    "\n",
    "    for i, v in enumerate([\"ww\", \"wordNet\", \"word2Vec\", \"unbalanced\"]):\n",
    "        print(f\"Training for: {v}\")\n",
    "        total = 0\n",
    "        for _ in range(5):\n",
    "            results = models[i].evaluate(train_padded, y_test, verbose=0)\n",
    "            total += results[1]\n",
    "        print(f\"Results :{total /5}\")\n",
    "        print(\"-\"*20)"
   ]
  },
  {
   "cell_type": "code",
   "execution_count": 20,
   "metadata": {},
   "outputs": [],
   "source": [
    "import tensorflow as tf\n",
    "\n",
    "def train_bert(x, y):\n",
    "    chosen_models = [\"bert_model_ww_merge.keras\", \"bert_model_WordNet_merge.keras\", \"bert_model_Word2Vec_merge.keras\", \"bert_model_unbalnced_merge.keras\"]\n",
    "    models = addPath(\"BERT models\", chosen_models)\n",
    "    \n",
    "    berts = [tf.keras.models.load_model(i) for i in models]\n",
    "\n",
    "    for i, v in enumerate([\"ww\", \"wordNet\", \"word2Vec\", \"unbalanced\"]):\n",
    "        print(f\"Training for: {v}\")\n",
    "        total = 0\n",
    "        for _ in range(5):\n",
    "            results = berts[i].evaluate(x_test, y_test, verbose=0)\n",
    "            total += results[1]\n",
    "        print(f\"Results :{total /5}\")\n",
    "        print(\"-\"*20)"
   ]
  },
  {
   "cell_type": "code",
   "execution_count": 21,
   "metadata": {},
   "outputs": [
    {
     "name": "stdout",
     "output_type": "stream",
     "text": [
      "Testing LSTM\n"
     ]
    },
    {
     "name": "stderr",
     "output_type": "stream",
     "text": [
      "/mnt/c/Users/g21m3012/Desktop/SA_fakenews/ENV/lib/python3.10/site-packages/keras/src/saving/saving_lib.py:719: UserWarning: Skipping variable loading for optimizer 'adam', because it has 2 variables whereas the saved optimizer has 44 variables. \n",
      "  saveable.load_own_variables(weights_store.get(inner_path))\n"
     ]
    },
    {
     "name": "stdout",
     "output_type": "stream",
     "text": [
      "Training for: ww\n",
      "Results :0.46354731917381287\n",
      "--------------------\n",
      "Training for: wordNet\n",
      "Results :0.5761697292327881\n",
      "--------------------\n",
      "Training for: word2Vec\n",
      "Results :0.5103373527526855\n",
      "--------------------\n",
      "Training for: unbalanced\n",
      "Results :0.5391730070114136\n",
      "--------------------\n",
      "Testing BERT\n"
     ]
    },
    {
     "name": "stderr",
     "output_type": "stream",
     "text": [
      "/mnt/c/Users/g21m3012/Desktop/SA_fakenews/ENV/lib/python3.10/site-packages/keras/src/saving/serialization_lib.py:734: UserWarning: `compile()` was not called as part of model loading because the model's `compile()` method is custom. All subclassed Models that have `compile()` overridden should also override `get_compile_config()` and `compile_from_config(config)`. Alternatively, you can call `compile()` manually after loading.\n",
      "  instance.compile_from_config(compile_config)\n",
      "/mnt/c/Users/g21m3012/Desktop/SA_fakenews/ENV/lib/python3.10/site-packages/keras/src/saving/saving_lib.py:719: UserWarning: Skipping variable loading for optimizer 'adam', because it has 2 variables whereas the saved optimizer has 84 variables. \n",
      "  saveable.load_own_variables(weights_store.get(inner_path))\n"
     ]
    },
    {
     "name": "stdout",
     "output_type": "stream",
     "text": [
      "Training for: ww\n"
     ]
    },
    {
     "name": "stderr",
     "output_type": "stream",
     "text": [
      "2024-10-11 15:03:59.570675: E tensorflow/core/util/util.cc:131] oneDNN supports DT_INT64 only on platforms with AVX-512. Falling back to the default Eigen-based implementation if present.\n"
     ]
    },
    {
     "name": "stdout",
     "output_type": "stream",
     "text": [
      "Results :0.4532099962234497\n",
      "--------------------\n",
      "Training for: wordNet\n",
      "Results :0.4064200222492218\n",
      "--------------------\n",
      "Training for: word2Vec\n",
      "Results :0.5239390730857849\n",
      "--------------------\n",
      "Training for: unbalanced\n",
      "Results :0.44232863187789917\n",
      "--------------------\n"
     ]
    }
   ],
   "source": [
    "print(\"Testing LSTM\")\n",
    "train_LSTM(train_padded, y_test)\n",
    "print(\"Testing BERT\")\n",
    "train_bert(x_test, y_test)"
   ]
  },
  {
   "cell_type": "code",
   "execution_count": 22,
   "metadata": {},
   "outputs": [
    {
     "name": "stdout",
     "output_type": "stream",
     "text": [
      "\u001b[1m58/58\u001b[0m \u001b[32m━━━━━━━━━━━━━━━━━━━━\u001b[0m\u001b[37m\u001b[0m \u001b[1m8s\u001b[0m 128ms/step - loss: 0.6939 - sparse_categorical_accuracy: 0.4917\n",
      "BERT Base: 0.6944521069526672\n"
     ]
    }
   ],
   "source": [
    "# base training\n",
    "import keras_nlp\n",
    "\n",
    "base = keras_nlp.models.BertClassifier.from_preset(\n",
    "    \"bert_tiny_en_uncased\",\n",
    "    num_classes=2,\n",
    ")\n",
    "\n",
    "accuracy = base.evaluate(x_test, y_test)[0]\n",
    "print(f\"BERT Base: {accuracy}\")"
   ]
  }
 ],
 "metadata": {
  "kernelspec": {
   "display_name": "winEnviro",
   "language": "python",
   "name": "python3"
  },
  "language_info": {
   "codemirror_mode": {
    "name": "ipython",
    "version": 3
   },
   "file_extension": ".py",
   "mimetype": "text/x-python",
   "name": "python",
   "nbconvert_exporter": "python",
   "pygments_lexer": "ipython3",
   "version": "3.10.12"
  }
 },
 "nbformat": 4,
 "nbformat_minor": 2
}
